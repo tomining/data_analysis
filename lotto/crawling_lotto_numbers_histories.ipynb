{
 "cells": [
  {
   "cell_type": "code",
   "execution_count": 1,
   "metadata": {},
   "outputs": [],
   "source": [
    "from urllib.request import urlopen\n",
    "import json\n",
    "import os"
   ]
  },
  {
   "cell_type": "code",
   "execution_count": 2,
   "metadata": {},
   "outputs": [],
   "source": [
    "resources_path = \"resources/\"\n",
    "lotto_numbers_histories_file_path = resources_path + \"lotto_numbers_histories.json\"\n",
    "max_histories_count = 1000\n",
    "crawling_lotto_numbers_uri = \"http://www.nlotto.co.kr/common.do?method=getLottoNumber&drwNo={}\""
   ]
  },
  {
   "cell_type": "code",
   "execution_count": 3,
   "metadata": {},
   "outputs": [],
   "source": [
    "def delete_file_if_exists(path):\n",
    "    try:\n",
    "        os.remove(path)\n",
    "    except FileNotFoundError:\n",
    "        print(\"File does not exists. path={}\".format(path))"
   ]
  },
  {
   "cell_type": "code",
   "execution_count": 4,
   "metadata": {},
   "outputs": [],
   "source": [
    "def get_lotto_numbers(drawNo):\n",
    "    url = crawling_lotto_numbers_uri.format(drawNo)\n",
    "    result = urlopen(url)\n",
    "    return json.loads(result.read())"
   ]
  },
  {
   "cell_type": "code",
   "execution_count": 5,
   "metadata": {},
   "outputs": [],
   "source": [
    "delete_file_if_exists(lotto_numbers_histories_file_path)\n",
    "f = open(lotto_numbers_histories_file_path, 'a+')\n",
    "\n",
    "for idx in range(1, max_histories_count): \n",
    "    json.dump(get_lotto_numbers(idx), f)\n",
    "    f.write(\"\\n\")\n",
    "\n",
    "f.close()"
   ]
  },
  {
   "cell_type": "code",
   "execution_count": null,
   "metadata": {},
   "outputs": [],
   "source": []
  }
 ],
 "metadata": {
  "kernelspec": {
   "display_name": "Python 3",
   "language": "python",
   "name": "python3"
  },
  "language_info": {
   "codemirror_mode": {
    "name": "ipython",
    "version": 3
   },
   "file_extension": ".py",
   "mimetype": "text/x-python",
   "name": "python",
   "nbconvert_exporter": "python",
   "pygments_lexer": "ipython3",
   "version": "3.7.4"
  }
 },
 "nbformat": 4,
 "nbformat_minor": 2
}
