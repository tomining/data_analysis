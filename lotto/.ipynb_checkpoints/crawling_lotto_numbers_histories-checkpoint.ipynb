{
 "cells": [
  {
   "cell_type": "code",
   "execution_count": 2,
   "metadata": {},
   "outputs": [],
   "source": [
    "from urllib.request import urlopen\n",
    "import json"
   ]
  },
  {
   "cell_type": "code",
   "execution_count": 15,
   "metadata": {},
   "outputs": [],
   "source": [
    "resources_path = \"resources/\"\n",
    "max_histories_count = 5\n",
    "crawling_lotto_numbers_uri = \"http://www.nlotto.co.kr/common.do?method=getLottoNumber&drwNo={}\""
   ]
  },
  {
   "cell_type": "code",
   "execution_count": 17,
   "metadata": {},
   "outputs": [
    {
     "name": "stdout",
     "output_type": "stream",
     "text": [
      "{'totSellamnt': 3681782000, 'returnValue': 'success', 'drwNoDate': '2002-12-07', 'firstWinamnt': 0, 'drwtNo6': 40, 'drwtNo4': 33, 'firstPrzwnerCo': 0, 'drwtNo5': 37, 'bnusNo': 16, 'firstAccumamnt': 863604600, 'drwNo': 1, 'drwtNo2': 23, 'drwtNo3': 29, 'drwtNo1': 10}\n",
      "{'totSellamnt': 4904274000, 'returnValue': 'success', 'drwNoDate': '2002-12-14', 'firstWinamnt': 2002006800, 'drwtNo6': 42, 'drwtNo4': 25, 'firstPrzwnerCo': 1, 'drwtNo5': 32, 'bnusNo': 2, 'firstAccumamnt': 0, 'drwNo': 2, 'drwtNo2': 13, 'drwtNo3': 21, 'drwtNo1': 9}\n",
      "{'totSellamnt': 4729342000, 'returnValue': 'success', 'drwNoDate': '2002-12-21', 'firstWinamnt': 2000000000, 'drwtNo6': 31, 'drwtNo4': 21, 'firstPrzwnerCo': 1, 'drwtNo5': 27, 'bnusNo': 30, 'firstAccumamnt': 0, 'drwNo': 3, 'drwtNo2': 16, 'drwtNo3': 19, 'drwtNo1': 11}\n",
      "{'totSellamnt': 5271464000, 'returnValue': 'success', 'drwNoDate': '2002-12-28', 'firstWinamnt': 0, 'drwtNo6': 42, 'drwtNo4': 31, 'firstPrzwnerCo': 0, 'drwtNo5': 40, 'bnusNo': 2, 'firstAccumamnt': 1267147200, 'drwNo': 4, 'drwtNo2': 27, 'drwtNo3': 30, 'drwtNo1': 14}\n"
     ]
    }
   ],
   "source": [
    "for i in range(1,max_histories_count): \n",
    "    number_history = json.loads(urlopen(crawling_lotto_numbers_uri.format(i)).read())\n",
    "    print(number_history)\n",
    "    "
   ]
  },
  {
   "cell_type": "code",
   "execution_count": null,
   "metadata": {},
   "outputs": [],
   "source": []
  }
 ],
 "metadata": {
  "kernelspec": {
   "display_name": "Python 3",
   "language": "python",
   "name": "python3"
  },
  "language_info": {
   "codemirror_mode": {
    "name": "ipython",
    "version": 3
   },
   "file_extension": ".py",
   "mimetype": "text/x-python",
   "name": "python",
   "nbconvert_exporter": "python",
   "pygments_lexer": "ipython3",
   "version": "3.7.4"
  }
 },
 "nbformat": 4,
 "nbformat_minor": 2
}
